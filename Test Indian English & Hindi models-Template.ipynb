{
 "cells": [
  {
   "cell_type": "code",
   "execution_count": null,
   "metadata": {},
   "outputs": [],
   "source": [
    "pip install --upgrade \"ibm-watson>=5.2.2\""
   ]
  },
  {
   "cell_type": "code",
   "execution_count": 1,
   "metadata": {},
   "outputs": [],
   "source": [
    "from ibm_watson import SpeechToTextV1\n",
    "from ibm_cloud_sdk_core.authenticators import IAMAuthenticator\n",
    "\n",
    "authenticator = IAMAuthenticator('<API KEY>')\n",
    "speech_to_text = SpeechToTextV1(\n",
    "    authenticator=authenticator\n",
    ")\n",
    "\n",
    "speech_to_text.set_service_url('<URL>')"
   ]
  },
  {
   "cell_type": "code",
   "execution_count": 3,
   "metadata": {},
   "outputs": [],
   "source": [
    "from os.path import join, dirname\n",
    "\n",
    "files = ['Indian English.mp3']\n",
    "for file in files:\n",
    "    with open(join(dirname('.'), './.', file),\n",
    "                   'rb') as audio_file:\n",
    "        speech_recognition_results = speech_to_text.recognize(\n",
    "            audio=audio_file,\n",
    "            content_type='audio/mp3',\n",
    "            model='en-IN_Telephony'\n",
    "        ).get_result()"
   ]
  },
  {
   "cell_type": "code",
   "execution_count": 4,
   "metadata": {},
   "outputs": [
    {
     "name": "stdout",
     "output_type": "stream",
     "text": [
      "i want to open an account \n",
      "what is my account balance \n",
      "i want to change my plan \n",
      "i need a loan of one crore \n",
      "what documents are needed to open an account \n",
      "i need a loan of one lakh \n"
     ]
    }
   ],
   "source": [
    "speech_recognition_results[\"results\"]\n",
    "len_list = len(speech_recognition_results[\"results\"])\n",
    "transcript=''\n",
    "for x in range(len_list):\n",
    "    print(speech_recognition_results[\"results\"][x][\"alternatives\"][0]['transcript'])\n",
    "    "
   ]
  },
  {
   "cell_type": "code",
   "execution_count": 7,
   "metadata": {},
   "outputs": [],
   "source": [
    "from os.path import join, dirname\n",
    "\n",
    "files = ['hindi.mp3']\n",
    "for file in files:\n",
    "    with open(join(dirname('.'), './.', file),\n",
    "                   'rb') as audio_file:\n",
    "        speech_recognition_results_us = speech_to_text.recognize(\n",
    "            audio=audio_file,\n",
    "            content_type='audio/mp3',\n",
    "            model='hi-IN_Telephony'\n",
    "        ).get_result()"
   ]
  },
  {
   "cell_type": "code",
   "execution_count": 8,
   "metadata": {},
   "outputs": [
    {
     "name": "stdout",
     "output_type": "stream",
     "text": [
      "मैं अकाउंट ओपन करना चाहता हूं \n",
      "मेरा अकाउंट बैलेंस कितना है \n",
      "मुझे प्लान चेंज करना है \n",
      "एक करोड़ रूपी का \n",
      "लोन चाहिए \n",
      "अकाउंट ओपन करने के लिए क्या डाक्यूमेंट्स चाहिए \n"
     ]
    }
   ],
   "source": [
    "speech_recognition_results[\"results\"]\n",
    "len_list = len(speech_recognition_results_us[\"results\"])\n",
    "transcript=''\n",
    "for x in range(len_list):\n",
    "    print(speech_recognition_results_us[\"results\"][x][\"alternatives\"][0]['transcript'])\n",
    "    "
   ]
  },
  {
   "cell_type": "code",
   "execution_count": null,
   "metadata": {},
   "outputs": [],
   "source": []
  }
 ],
 "metadata": {
  "kernelspec": {
   "display_name": "Python 3",
   "language": "python",
   "name": "python3"
  },
  "language_info": {
   "codemirror_mode": {
    "name": "ipython",
    "version": 3
   },
   "file_extension": ".py",
   "mimetype": "text/x-python",
   "name": "python",
   "nbconvert_exporter": "python",
   "pygments_lexer": "ipython3",
   "version": "3.7.4"
  }
 },
 "nbformat": 4,
 "nbformat_minor": 2
}
